{
 "cells": [
  {
   "cell_type": "markdown",
   "metadata": {},
   "source": [
    "## 11/8 ~ 11/13"
   ]
  },
  {
   "cell_type": "markdown",
   "metadata": {},
   "source": [
    "### Report\n",
    "\n",
    "- Irrelevant news (such as Philippines, ISIS): Because the quick news are bundled in to a single video\n",
    "- Successfully translate speech audio to text (Upload to Google Cloud Storage and use the gs uri).\n",
    "- The popular words mentioned in audio are mostly common vocabulary."
   ]
  },
  {
   "cell_type": "markdown",
   "metadata": {},
   "source": [
    "### TODO\n",
    "\n",
    "- Get some works in early videos to filter irrevelant videos (List of vocabularies)\n",
    "- Find named entities (Capitalized), see if it make sence to put them into queries"
   ]
  },
  {
   "cell_type": "markdown",
   "metadata": {},
   "source": [
    "## 11/14 ~ 11/20"
   ]
  },
  {
   "cell_type": "markdown",
   "metadata": {},
   "source": [
    "### Report\n",
    "\n",
    "- See CGTN in named entities, which is a china global television network. (So search \"alphago cgtn\")\n",
    "- Maybe we can try searching with \"alphago [news company]\" separately"
   ]
  },
  {
   "cell_type": "markdown",
   "metadata": {},
   "source": [
    "### TODO\n",
    "\n",
    "- Understand named entities\n",
    "- Overlaping videos\n",
    "- Create a table of counts of videos queried (\"alphago [named entity]\") by \"plain youtube\" and \"cgtn channel\""
   ]
  },
  {
   "cell_type": "markdown",
   "metadata": {},
   "source": [
    "## 11/21 ~ 11/27\n",
    "\n",
    "### Report\n",
    "- We can train our own NER (Named Entity Recognizer) by ourselves with Spacy. [Link](https://spacy.io/usage/training)\n",
    "- But Spacy mentioned nothing about any algorithm of training\n",
    "\n",
    "### TODO\n",
    "- Plot Youtube percentage v.s. CGTN percentage\n",
    "- Remove adds from description\n",
    "- Make queries from the so-called \"corners\"."
   ]
  },
  {
   "cell_type": "code",
   "execution_count": null,
   "metadata": {},
   "outputs": [],
   "source": []
  }
 ],
 "metadata": {
  "kernelspec": {
   "display_name": "Python 3",
   "language": "python",
   "name": "python3"
  },
  "language_info": {
   "codemirror_mode": {
    "name": "ipython",
    "version": 3
   },
   "file_extension": ".py",
   "mimetype": "text/x-python",
   "name": "python",
   "nbconvert_exporter": "python",
   "pygments_lexer": "ipython3",
   "version": "3.6.5"
  }
 },
 "nbformat": 4,
 "nbformat_minor": 2
}
